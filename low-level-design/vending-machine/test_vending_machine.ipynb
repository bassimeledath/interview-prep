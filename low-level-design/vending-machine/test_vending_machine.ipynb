{
 "cells": [
  {
   "cell_type": "code",
   "execution_count": 4,
   "metadata": {},
   "outputs": [],
   "source": [
    "from vending_machine import VendingMachine\n",
    "from product import Product\n",
    "\n",
    "vm = VendingMachine()\n",
    "cola = Product(id=1, name=\"Cola\", price=1.50, quantity=1)\n",
    "chips = Product(id=2, name=\"Chips\", price=1.00, quantity=2)\n",
    "candy = Product(id=3, name=\"Candy\", price=0.75, quantity=3)\n",
    "\n",
    "vm.add_product(cola)\n",
    "vm.add_product(chips)\n",
    "vm.add_product(candy)"
   ]
  },
  {
   "cell_type": "code",
   "execution_count": 5,
   "metadata": {},
   "outputs": [
    {
     "data": {
      "text/plain": [
       "{1: Product(id=1, name='Cola', price=1.5, quantity=1),\n",
       " 2: Product(id=2, name='Chips', price=1.0, quantity=2),\n",
       " 3: Product(id=3, name='Candy', price=0.75, quantity=3)}"
      ]
     },
     "execution_count": 5,
     "metadata": {},
     "output_type": "execute_result"
    }
   ],
   "source": [
    "vm.available_products"
   ]
  },
  {
   "cell_type": "code",
   "execution_count": 6,
   "metadata": {},
   "outputs": [
    {
     "ename": "InsufficientFundsException",
     "evalue": "Insufficient funds for product Cola",
     "output_type": "error",
     "traceback": [
      "\u001b[0;31m---------------------------------------------------------------------------\u001b[0m",
      "\u001b[0;31mInsufficientFundsException\u001b[0m                Traceback (most recent call last)",
      "Cell \u001b[0;32mIn[6], line 1\u001b[0m\n\u001b[0;32m----> 1\u001b[0m \u001b[43mvm\u001b[49m\u001b[38;5;241;43m.\u001b[39;49m\u001b[43mdispense\u001b[49m\u001b[43m(\u001b[49m\u001b[43mproduct_id\u001b[49m\u001b[38;5;241;43m=\u001b[39;49m\u001b[38;5;241;43m1\u001b[39;49m\u001b[43m)\u001b[49m\n",
      "File \u001b[0;32m~/Desktop/fullstack/interview-prep/low-level-design/vending-machine/vending_machine.py:36\u001b[0m, in \u001b[0;36mVendingMachine.dispense\u001b[0;34m(self, product_id)\u001b[0m\n\u001b[1;32m     32\u001b[0m     \u001b[38;5;28;01mraise\u001b[39;00m OutOfStockException(\n\u001b[1;32m     33\u001b[0m         \u001b[38;5;124mf\u001b[39m\u001b[38;5;124m\"\u001b[39m\u001b[38;5;124mProduct \u001b[39m\u001b[38;5;132;01m{\u001b[39;00mproduct\u001b[38;5;241m.\u001b[39mname\u001b[38;5;132;01m}\u001b[39;00m\u001b[38;5;124m is out of stock.\u001b[39m\u001b[38;5;124m\"\u001b[39m)\n\u001b[1;32m     35\u001b[0m \u001b[38;5;28;01mif\u001b[39;00m \u001b[38;5;28mself\u001b[39m\u001b[38;5;241m.\u001b[39minserted_balance \u001b[38;5;241m<\u001b[39m product\u001b[38;5;241m.\u001b[39mprice:\n\u001b[0;32m---> 36\u001b[0m     \u001b[38;5;28;01mraise\u001b[39;00m InsufficientFundsException(\n\u001b[1;32m     37\u001b[0m         \u001b[38;5;124mf\u001b[39m\u001b[38;5;124m\"\u001b[39m\u001b[38;5;124mInsufficient funds for product \u001b[39m\u001b[38;5;132;01m{\u001b[39;00mproduct\u001b[38;5;241m.\u001b[39mname\u001b[38;5;132;01m}\u001b[39;00m\u001b[38;5;124m\"\u001b[39m)\n\u001b[1;32m     39\u001b[0m product\u001b[38;5;241m.\u001b[39mquantity \u001b[38;5;241m-\u001b[39m\u001b[38;5;241m=\u001b[39m \u001b[38;5;241m1\u001b[39m\n\u001b[1;32m     40\u001b[0m change \u001b[38;5;241m=\u001b[39m \u001b[38;5;28mself\u001b[39m\u001b[38;5;241m.\u001b[39minserted_balance \u001b[38;5;241m-\u001b[39m product\u001b[38;5;241m.\u001b[39mprice\n",
      "\u001b[0;31mInsufficientFundsException\u001b[0m: Insufficient funds for product Cola"
     ]
    }
   ],
   "source": [
    "vm.dispense(product_id=1)"
   ]
  },
  {
   "cell_type": "code",
   "execution_count": 7,
   "metadata": {},
   "outputs": [],
   "source": [
    "vm.add_stock({1: 5, 2: 3, 3: 4})"
   ]
  },
  {
   "cell_type": "code",
   "execution_count": 8,
   "metadata": {},
   "outputs": [
    {
     "data": {
      "text/plain": [
       "{1: Product(id=1, name='Cola', price=1.5, quantity=6),\n",
       " 2: Product(id=2, name='Chips', price=1.0, quantity=5),\n",
       " 3: Product(id=3, name='Candy', price=0.75, quantity=7)}"
      ]
     },
     "execution_count": 8,
     "metadata": {},
     "output_type": "execute_result"
    }
   ],
   "source": [
    "vm.available_products"
   ]
  },
  {
   "cell_type": "code",
   "execution_count": 9,
   "metadata": {},
   "outputs": [
    {
     "ename": "InvalidProductException",
     "evalue": "Product with ID 4 is not in the vending machine",
     "output_type": "error",
     "traceback": [
      "\u001b[0;31m---------------------------------------------------------------------------\u001b[0m",
      "\u001b[0;31mInvalidProductException\u001b[0m                   Traceback (most recent call last)",
      "Cell \u001b[0;32mIn[9], line 1\u001b[0m\n\u001b[0;32m----> 1\u001b[0m \u001b[43mvm\u001b[49m\u001b[38;5;241;43m.\u001b[39;49m\u001b[43madd_stock\u001b[49m\u001b[43m(\u001b[49m\u001b[43m{\u001b[49m\u001b[38;5;241;43m4\u001b[39;49m\u001b[43m:\u001b[49m\u001b[43m \u001b[49m\u001b[38;5;241;43m2\u001b[39;49m\u001b[43m}\u001b[49m\u001b[43m)\u001b[49m\n",
      "File \u001b[0;32m~/Desktop/fullstack/interview-prep/low-level-design/vending-machine/vending_machine.py:21\u001b[0m, in \u001b[0;36mVendingMachine.add_stock\u001b[0;34m(self, stock)\u001b[0m\n\u001b[1;32m     19\u001b[0m     \u001b[38;5;28mself\u001b[39m\u001b[38;5;241m.\u001b[39m_available_products[product_id]\u001b[38;5;241m.\u001b[39mquantity \u001b[38;5;241m+\u001b[39m\u001b[38;5;241m=\u001b[39m quantity\n\u001b[1;32m     20\u001b[0m \u001b[38;5;28;01melse\u001b[39;00m:\n\u001b[0;32m---> 21\u001b[0m     \u001b[38;5;28;01mraise\u001b[39;00m InvalidProductException(\n\u001b[1;32m     22\u001b[0m         \u001b[38;5;124mf\u001b[39m\u001b[38;5;124m\"\u001b[39m\u001b[38;5;124mProduct with ID \u001b[39m\u001b[38;5;132;01m{\u001b[39;00mproduct_id\u001b[38;5;132;01m}\u001b[39;00m\u001b[38;5;124m is not in the vending machine\u001b[39m\u001b[38;5;124m\"\u001b[39m)\n",
      "\u001b[0;31mInvalidProductException\u001b[0m: Product with ID 4 is not in the vending machine"
     ]
    }
   ],
   "source": [
    "vm.add_stock({4: 2})"
   ]
  },
  {
   "cell_type": "code",
   "execution_count": 10,
   "metadata": {},
   "outputs": [
    {
     "name": "stdout",
     "output_type": "stream",
     "text": [
      "Current balance: $2.00\n"
     ]
    }
   ],
   "source": [
    "vm.insert_payment({\"QUARTER\": 6, \"DIME\": 5})\n",
    "print(f\"Current balance: ${vm.inserted_balance:.2f}\")"
   ]
  },
  {
   "cell_type": "code",
   "execution_count": 11,
   "metadata": {},
   "outputs": [
    {
     "data": {
      "text/plain": [
       "0.5"
      ]
     },
     "execution_count": 11,
     "metadata": {},
     "output_type": "execute_result"
    }
   ],
   "source": [
    "vm.dispense(1)"
   ]
  },
  {
   "cell_type": "code",
   "execution_count": 12,
   "metadata": {},
   "outputs": [
    {
     "ename": "InsufficientFundsException",
     "evalue": "Insufficient funds for product Cola",
     "output_type": "error",
     "traceback": [
      "\u001b[0;31m---------------------------------------------------------------------------\u001b[0m",
      "\u001b[0;31mInsufficientFundsException\u001b[0m                Traceback (most recent call last)",
      "Cell \u001b[0;32mIn[12], line 1\u001b[0m\n\u001b[0;32m----> 1\u001b[0m \u001b[43mvm\u001b[49m\u001b[38;5;241;43m.\u001b[39;49m\u001b[43mdispense\u001b[49m\u001b[43m(\u001b[49m\u001b[38;5;241;43m1\u001b[39;49m\u001b[43m)\u001b[49m\n",
      "File \u001b[0;32m~/Desktop/fullstack/interview-prep/low-level-design/vending-machine/vending_machine.py:36\u001b[0m, in \u001b[0;36mVendingMachine.dispense\u001b[0;34m(self, product_id)\u001b[0m\n\u001b[1;32m     32\u001b[0m     \u001b[38;5;28;01mraise\u001b[39;00m OutOfStockException(\n\u001b[1;32m     33\u001b[0m         \u001b[38;5;124mf\u001b[39m\u001b[38;5;124m\"\u001b[39m\u001b[38;5;124mProduct \u001b[39m\u001b[38;5;132;01m{\u001b[39;00mproduct\u001b[38;5;241m.\u001b[39mname\u001b[38;5;132;01m}\u001b[39;00m\u001b[38;5;124m is out of stock.\u001b[39m\u001b[38;5;124m\"\u001b[39m)\n\u001b[1;32m     35\u001b[0m \u001b[38;5;28;01mif\u001b[39;00m \u001b[38;5;28mself\u001b[39m\u001b[38;5;241m.\u001b[39minserted_balance \u001b[38;5;241m<\u001b[39m product\u001b[38;5;241m.\u001b[39mprice:\n\u001b[0;32m---> 36\u001b[0m     \u001b[38;5;28;01mraise\u001b[39;00m InsufficientFundsException(\n\u001b[1;32m     37\u001b[0m         \u001b[38;5;124mf\u001b[39m\u001b[38;5;124m\"\u001b[39m\u001b[38;5;124mInsufficient funds for product \u001b[39m\u001b[38;5;132;01m{\u001b[39;00mproduct\u001b[38;5;241m.\u001b[39mname\u001b[38;5;132;01m}\u001b[39;00m\u001b[38;5;124m\"\u001b[39m)\n\u001b[1;32m     39\u001b[0m product\u001b[38;5;241m.\u001b[39mquantity \u001b[38;5;241m-\u001b[39m\u001b[38;5;241m=\u001b[39m \u001b[38;5;241m1\u001b[39m\n\u001b[1;32m     40\u001b[0m change \u001b[38;5;241m=\u001b[39m \u001b[38;5;28mself\u001b[39m\u001b[38;5;241m.\u001b[39minserted_balance \u001b[38;5;241m-\u001b[39m product\u001b[38;5;241m.\u001b[39mprice\n",
      "\u001b[0;31mInsufficientFundsException\u001b[0m: Insufficient funds for product Cola"
     ]
    }
   ],
   "source": [
    "vm.dispense(1)"
   ]
  },
  {
   "cell_type": "code",
   "execution_count": null,
   "metadata": {},
   "outputs": [],
   "source": []
  }
 ],
 "metadata": {
  "kernelspec": {
   "display_name": "base",
   "language": "python",
   "name": "python3"
  },
  "language_info": {
   "codemirror_mode": {
    "name": "ipython",
    "version": 3
   },
   "file_extension": ".py",
   "mimetype": "text/x-python",
   "name": "python",
   "nbconvert_exporter": "python",
   "pygments_lexer": "ipython3",
   "version": "3.10.13"
  }
 },
 "nbformat": 4,
 "nbformat_minor": 2
}

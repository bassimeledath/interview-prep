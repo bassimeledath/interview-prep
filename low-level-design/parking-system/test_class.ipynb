{
 "cells": [
  {
   "cell_type": "code",
   "execution_count": 2,
   "metadata": {},
   "outputs": [
    {
     "name": "stdout",
     "output_type": "stream",
     "text": [
      "Parking car1: True\n",
      "Parking car2: True\n",
      "Parking motorcycle: True\n",
      "Parking truck: True\n",
      "Available spots: {<VehicleType.CAR: (1,)>: 2, <VehicleType.MOTORCYCLE: (2,)>: 1, <VehicleType.TRUCK: 3>: 1}\n",
      "Removing car1: True\n",
      "Available spots after removal: {<VehicleType.CAR: (1,)>: 3, <VehicleType.MOTORCYCLE: (2,)>: 1, <VehicleType.TRUCK: 3>: 1}\n"
     ]
    }
   ],
   "source": [
    "from parking_level import ParkingLevel\n",
    "from parking_spot import ParkingSpot\n",
    "from vehicle import Vehicle, VehicleType\n",
    "from parking_lot import ParkingLot\n",
    "\n",
    "def create_parking_lot() -> ParkingLot:\n",
    "    level1 = ParkingLevel(1, [\n",
    "        ParkingSpot(1, 1, VehicleType.CAR),\n",
    "        ParkingSpot(2, 1, VehicleType.CAR),\n",
    "        ParkingSpot(3, 1, VehicleType.MOTORCYCLE),\n",
    "        ParkingSpot(4, 1, VehicleType.TRUCK)\n",
    "    ])\n",
    "    level2 = ParkingLevel(2, [\n",
    "        ParkingSpot(5, 2, VehicleType.CAR),\n",
    "        ParkingSpot(6, 2, VehicleType.CAR),\n",
    "        ParkingSpot(7, 2, VehicleType.MOTORCYCLE),\n",
    "        ParkingSpot(8, 2, VehicleType.TRUCK)\n",
    "    ])\n",
    "    return ParkingLot([level1, level2])\n",
    "\n",
    "def main():\n",
    "    parking_lot = create_parking_lot()\n",
    "\n",
    "    car1 = Vehicle(VehicleType.CAR, \"ABC123\")\n",
    "    car2 = Vehicle(VehicleType.CAR, \"DEF456\")\n",
    "    motorcycle = Vehicle(VehicleType.MOTORCYCLE, \"GHI789\")\n",
    "    truck = Vehicle(VehicleType.TRUCK, \"JKL012\")\n",
    "\n",
    "    print(f\"Parking car1: {parking_lot.park_vehicle(car1)}\")\n",
    "    print(f\"Parking car2: {parking_lot.park_vehicle(car2)}\")\n",
    "    print(f\"Parking motorcycle: {parking_lot.park_vehicle(motorcycle)}\")\n",
    "    print(f\"Parking truck: {parking_lot.park_vehicle(truck)}\")\n",
    "\n",
    "    print(f\"Available spots: {parking_lot.available_spots_count}\")\n",
    "\n",
    "    print(f\"Removing car1: {parking_lot.remove_vehicle(car1)}\")\n",
    "    print(f\"Available spots after removal: {parking_lot.available_spots_count}\")\n",
    "\n",
    "\n",
    "main()"
   ]
  },
  {
   "cell_type": "code",
   "execution_count": null,
   "metadata": {},
   "outputs": [],
   "source": []
  }
 ],
 "metadata": {
  "kernelspec": {
   "display_name": "base",
   "language": "python",
   "name": "python3"
  },
  "language_info": {
   "codemirror_mode": {
    "name": "ipython",
    "version": 3
   },
   "file_extension": ".py",
   "mimetype": "text/x-python",
   "name": "python",
   "nbconvert_exporter": "python",
   "pygments_lexer": "ipython3",
   "version": "3.10.13"
  }
 },
 "nbformat": 4,
 "nbformat_minor": 2
}

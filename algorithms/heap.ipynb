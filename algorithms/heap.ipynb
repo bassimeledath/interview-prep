{
 "cells": [
  {
   "cell_type": "code",
   "execution_count": 4,
   "metadata": {},
   "outputs": [],
   "source": [
    "s = [\"a\", \"ab\", \"abc\"]"
   ]
  },
  {
   "cell_type": "code",
   "execution_count": 5,
   "metadata": {},
   "outputs": [
    {
     "name": "stdout",
     "output_type": "stream",
     "text": [
      "['ab', 'abc']\n"
     ]
    }
   ],
   "source": [
    "import heapq\n",
    "def top_k(s, k=2):\n",
    "    min_heap = []\n",
    "\n",
    "    for word in s:\n",
    "        if len(min_heap) < k:\n",
    "            heapq.heappush(min_heap, (len(word), word))\n",
    "        else:\n",
    "            if min_heap[0][0] < len(word):\n",
    "                heapq.heappushpop(min_heap, (len(word), word))\n",
    "        \n",
    "    return [x[1] for x in min_heap]\n",
    "\n",
    "print(top_k(s))\n",
    "        \n"
   ]
  },
  {
   "cell_type": "code",
   "execution_count": 12,
   "metadata": {},
   "outputs": [
    {
     "name": "stdout",
     "output_type": "stream",
     "text": [
      "4\n",
      "5\n"
     ]
    }
   ],
   "source": [
    "import heapq\n",
    "from typing import List\n",
    "class KthLargest:\n",
    "\n",
    "    def __init__(self, k: int, nums: List[int]):\n",
    "        self.k = k\n",
    "        self.min_heap = []\n",
    "        for num in nums:\n",
    "            self.add(num)\n",
    "        \n",
    "    def add(self, val: int) -> int:\n",
    "        if len(self.min_heap) < self.k:\n",
    "            heapq.heappush(self.min_heap, val)\n",
    "        elif val > self.min_heap[0]:\n",
    "            heapq.heappushpop(self.min_heap, val)\n",
    "        return self.min_heap[0]\n",
    "    \n",
    "k_largest = KthLargest(3, [4,5,8,2])\n",
    "print(k_largest.add(3))\n",
    "print(k_largest.add(5))\n"
   ]
  },
  {
   "cell_type": "code",
   "execution_count": null,
   "metadata": {},
   "outputs": [],
   "source": []
  }
 ],
 "metadata": {
  "kernelspec": {
   "display_name": "base",
   "language": "python",
   "name": "python3"
  },
  "language_info": {
   "codemirror_mode": {
    "name": "ipython",
    "version": 3
   },
   "file_extension": ".py",
   "mimetype": "text/x-python",
   "name": "python",
   "nbconvert_exporter": "python",
   "pygments_lexer": "ipython3",
   "version": "3.10.13"
  }
 },
 "nbformat": 4,
 "nbformat_minor": 2
}

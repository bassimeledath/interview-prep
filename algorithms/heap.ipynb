{
 "cells": [
  {
   "cell_type": "code",
   "execution_count": 4,
   "metadata": {},
   "outputs": [],
   "source": [
    "s = [\"a\", \"ab\", \"abc\"]"
   ]
  },
  {
   "cell_type": "code",
   "execution_count": 5,
   "metadata": {},
   "outputs": [
    {
     "name": "stdout",
     "output_type": "stream",
     "text": [
      "['ab', 'abc']\n"
     ]
    }
   ],
   "source": [
    "import heapq\n",
    "def top_k(s, k=2):\n",
    "    min_heap = []\n",
    "\n",
    "    for word in s:\n",
    "        if len(min_heap) < k:\n",
    "            heapq.heappush(min_heap, (len(word), word))\n",
    "        else:\n",
    "            if min_heap[0][0] < len(word):\n",
    "                heapq.heappushpop(min_heap, (len(word), word))\n",
    "        \n",
    "    return [x[1] for x in min_heap]\n",
    "\n",
    "print(top_k(s))\n",
    "        \n"
   ]
  },
  {
   "cell_type": "code",
   "execution_count": null,
   "metadata": {},
   "outputs": [],
   "source": []
  }
 ],
 "metadata": {
  "kernelspec": {
   "display_name": "base",
   "language": "python",
   "name": "python3"
  },
  "language_info": {
   "codemirror_mode": {
    "name": "ipython",
    "version": 3
   },
   "file_extension": ".py",
   "mimetype": "text/x-python",
   "name": "python",
   "nbconvert_exporter": "python",
   "pygments_lexer": "ipython3",
   "version": "3.10.13"
  }
 },
 "nbformat": 4,
 "nbformat_minor": 2
}
